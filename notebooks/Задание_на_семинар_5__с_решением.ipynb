{
  "nbformat": 4,
  "nbformat_minor": 0,
  "metadata": {
    "colab": {
      "provenance": [],
      "authorship_tag": "ABX9TyMmFX2fO3Y5fVePTx4oA3a0",
      "include_colab_link": true
    },
    "kernelspec": {
      "name": "python3",
      "display_name": "Python 3"
    },
    "language_info": {
      "name": "python"
    }
  },
  "cells": [
    {
      "cell_type": "markdown",
      "metadata": {
        "id": "view-in-github",
        "colab_type": "text"
      },
      "source": [
        "<a href=\"https://colab.research.google.com/github/AnnSenina/Python_CL_2024/blob/main/notebooks/%D0%97%D0%B0%D0%B4%D0%B0%D0%BD%D0%B8%D0%B5_%D0%BD%D0%B0_%D1%81%D0%B5%D0%BC%D0%B8%D0%BD%D0%B0%D1%80_5__%D1%81_%D1%80%D0%B5%D1%88%D0%B5%D0%BD%D0%B8%D0%B5%D0%BC.ipynb\" target=\"_parent\"><img src=\"https://colab.research.google.com/assets/colab-badge.svg\" alt=\"Open In Colab\"/></a>"
      ]
    },
    {
      "cell_type": "markdown",
      "source": [
        "# Задача\n",
        "\n",
        "Дана функция:"
      ],
      "metadata": {
        "id": "HOeeOGSBzt2h"
      }
    },
    {
      "cell_type": "code",
      "execution_count": 9,
      "metadata": {
        "id": "Qaoix7lBzoDz"
      },
      "outputs": [],
      "source": [
        "def top_5(text):\n",
        "    lower_case = text.lower()\n",
        "    without_punkt = lower_case.replace(',', '').replace('.', '')\n",
        "    tokens = without_punkt.split()\n",
        "    freq = {}\n",
        "    for i in tokens:\n",
        "      if i not in freq:\n",
        "        freq[i] = 1\n",
        "      else:\n",
        "        freq[i] += 1\n",
        "    freq_list = sorted(freq.items()) # словарь отсортируется по ключам (т.к. ключ - строка, отсортируется по алфавиту)\n",
        "    freq_list.sort(key=lambda x: x[1], reverse=True) # key = по какому правилу сортировать: мы указали: по 1 индексу, то есть по частоте\n",
        "    result = []\n",
        "    for i in freq_list[:5]: # топ-5 частотных слов\n",
        "      result.append(i[0])\n",
        "    return ', '.join(result)"
      ]
    },
    {
      "cell_type": "code",
      "source": [
        "text = 'Я не такой, как все, я это знаю. То есть, конечно, я делаю самые обыкновенные вещи. Ем мороженое. Катаюсь на велосипеде. Гоняю мяч. Играю на XBox. Как любой десятилетний ребенок. Я и чувствую себя самым что ни на есть обыкновенным. Внутри. Но при виде обыкновенных детей другие обыкновенные дети не разбегаются с воплями. На обыкновенных детей не глазеют везде и всюду.'\n",
        "# Текст - 1 абзац из детской книги \"Чудо\" Р. Дж. Паласио\n",
        "\n",
        "print(top_5(text))"
      ],
      "metadata": {
        "id": "piM-sIu_1KgT"
      },
      "execution_count": null,
      "outputs": []
    },
    {
      "cell_type": "markdown",
      "source": [
        "Разбейте ее на цепочку небольших функций:"
      ],
      "metadata": {
        "id": "Unq5yUb-2Bmj"
      }
    },
    {
      "cell_type": "code",
      "source": [
        "def lower_case(text):\n",
        "  # ваш код\n",
        "\n",
        "def without_punkt(text):\n",
        "  # ваш код\n",
        "\n",
        "def get_tokens(text):\n",
        "  # ваш код\n",
        "\n",
        "def tokens_freq(text):\n",
        "  # ваш код\n",
        "\n",
        "def sort_freq(text):\n",
        "  # ваш код\n",
        "\n",
        "def top_5(text):\n",
        "  # ваш код\n",
        "\n",
        "def main(text):\n",
        "  return ', '.join(top_5(text))\n",
        "\n",
        "print(main())"
      ],
      "metadata": {
        "id": "GYIHoV1N2Ek3"
      },
      "execution_count": null,
      "outputs": []
    },
    {
      "cell_type": "markdown",
      "source": [
        "### Внимание!\n",
        "Ниже один из возможных правильных ответов"
      ],
      "metadata": {
        "id": "ACnCW7F_4lGB"
      }
    },
    {
      "cell_type": "code",
      "source": [
        "# @title\n",
        "def lower_case(text):\n",
        "  return text.lower()\n",
        "\n",
        "def without_punkt(text):\n",
        "  return lower_case(text).replace(',', '').replace('.', '')\n",
        "\n",
        "def get_tokens(text):\n",
        "  return without_punkt(text).split()\n",
        "\n",
        "def tokens_freq(text):\n",
        "  tokens = get_tokens(text)\n",
        "  freq = {}\n",
        "  for i in tokens:\n",
        "    if i not in freq:\n",
        "      freq[i] = 1\n",
        "    else:\n",
        "      freq[i] += 1\n",
        "  return freq\n",
        "\n",
        "def sort_freq(text):\n",
        "  freq = tokens_freq(text)\n",
        "  freq_list = sorted(freq.items())\n",
        "  freq_list.sort(key=lambda x: x[1], reverse=True)\n",
        "  return freq_list\n",
        "\n",
        "def top_5(text):\n",
        "  freq_list = sort_freq(text)\n",
        "  result = []\n",
        "  for i in freq_list[:5]:\n",
        "    result.append(i[0])\n",
        "  return result\n",
        "\n",
        "def main(text):\n",
        "  return ', '.join(top_5(text))\n",
        "\n",
        "print(main(text))"
      ],
      "metadata": {
        "cellView": "form",
        "id": "jaucuabp3Mae"
      },
      "execution_count": null,
      "outputs": []
    }
  ]
}